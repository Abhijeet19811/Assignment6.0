{
 "cells": [
  {
   "cell_type": "code",
   "execution_count": 17,
   "metadata": {},
   "outputs": [
    {
     "name": "stdout",
     "output_type": "stream",
     "text": [
      "335.92591775899376\n"
     ]
    }
   ],
   "source": [
    "#Problem Statement 1:\n",
    "#You survey households in your area to find the average rent they are paying. Find the\n",
    "#standard deviation from the following data:\n",
    "#$1550, $1700, $900, $850, $1000, $950.\n",
    "\n",
    "from math import sqrt\n",
    "\n",
    "def mean(lst):\n",
    "    #Step 1 - calculates mean\n",
    "    sum = 0\n",
    "    for i in range(len(lst)):\n",
    "        sum += lst[i]\n",
    "    return (sum / len(lst))\n",
    "\n",
    "def stddev(lst):\n",
    "    # Step 2 - calculates standard deviation\n",
    "    sum = 0\n",
    "    mn = mean(lst)\n",
    "    for i in range(len(lst)):\n",
    "        sum += pow((lst[i]-mn),2)\n",
    "    return sqrt(sum/len(lst)-1)\n",
    "\n",
    "numbers = [1550, 1700, 900, 850, 1000, 950]\n",
    "\n",
    "print(stddev(numbers))"
   ]
  },
  {
   "cell_type": "code",
   "execution_count": null,
   "metadata": {
    "collapsed": true
   },
   "outputs": [],
   "source": []
  }
 ],
 "metadata": {
  "kernelspec": {
   "display_name": "Python 3",
   "language": "python",
   "name": "python3"
  },
  "language_info": {
   "codemirror_mode": {
    "name": "ipython",
    "version": 3
   },
   "file_extension": ".py",
   "mimetype": "text/x-python",
   "name": "python",
   "nbconvert_exporter": "python",
   "pygments_lexer": "ipython3",
   "version": "3.6.3"
  }
 },
 "nbformat": 4,
 "nbformat_minor": 2
}
