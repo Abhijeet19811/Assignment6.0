{
 "cells": [
  {
   "cell_type": "code",
   "execution_count": 9,
   "metadata": {},
   "outputs": [
    {
     "name": "stdout",
     "output_type": "stream",
     "text": [
      "The Variance of Trees in Califonia is hieght in Feet : 5183.25\n"
     ]
    }
   ],
   "source": [
    "# Problem Statement 1:\n",
    "# Find the variance for the following set of data representing trees in California (heights in feet):\n",
    "# 3, 21, 98, 203, 17, 9\n",
    "\n",
    "import numpy as np\n",
    "\n",
    "results = [3, 21, 98, 203, 17, 9]\n",
    "# calculate mean\n",
    "m = sum(results) / len(results)\n",
    "\n",
    "# calculate variance using a list comprehension\n",
    "var_res = sum([(xi - m) ** 2 for xi in results]) / len(results)\n",
    "\n",
    "print('The Variance of Trees in Califonia is hieght in Feet :',var_res)"
   ]
  },
  {
   "cell_type": "code",
   "execution_count": null,
   "metadata": {
    "collapsed": true
   },
   "outputs": [],
   "source": []
  },
  {
   "cell_type": "code",
   "execution_count": null,
   "metadata": {
    "collapsed": true
   },
   "outputs": [],
   "source": []
  }
 ],
 "metadata": {
  "kernelspec": {
   "display_name": "Python 3",
   "language": "python",
   "name": "python3"
  },
  "language_info": {
   "codemirror_mode": {
    "name": "ipython",
    "version": 3
   },
   "file_extension": ".py",
   "mimetype": "text/x-python",
   "name": "python",
   "nbconvert_exporter": "python",
   "pygments_lexer": "ipython3",
   "version": "3.6.3"
  }
 },
 "nbformat": 4,
 "nbformat_minor": 2
}
